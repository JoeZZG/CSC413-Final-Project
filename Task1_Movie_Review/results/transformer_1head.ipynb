{
  "nbformat": 4,
  "nbformat_minor": 0,
  "metadata": {
    "colab": {
      "provenance": [],
      "gpuType": "A100"
    },
    "kernelspec": {
      "name": "python3",
      "display_name": "Python 3"
    },
    "language_info": {
      "name": "python"
    },
    "accelerator": "GPU"
  },
  "cells": [
    {
      "cell_type": "markdown",
      "source": [
        "**Environment Setup**\n",
        "\n",
        "First, install all necessary libraries. Also use spacy for tokenization and other libraries for data handling and visualization."
      ],
      "metadata": {
        "id": "X92UByT0iI14"
      }
    },
    {
      "cell_type": "code",
      "execution_count": 34,
      "metadata": {
        "id": "iY3xlch5iG65",
        "colab": {
          "base_uri": "https://localhost:8080/"
        },
        "outputId": "e750f9fa-0067-46d7-c84c-4b1b846e2d80"
      },
      "outputs": [
        {
          "output_type": "stream",
          "name": "stdout",
          "text": [
            "Looking in indexes: https://pypi.org/simple, https://download.pytorch.org/whl/cu117\n",
            "Requirement already satisfied: torch in /usr/local/lib/python3.10/dist-packages (2.5.1+cu121)\n",
            "Requirement already satisfied: torchvision in /usr/local/lib/python3.10/dist-packages (0.20.1+cu121)\n",
            "Requirement already satisfied: torchaudio in /usr/local/lib/python3.10/dist-packages (2.5.1+cu121)\n",
            "Requirement already satisfied: filelock in /usr/local/lib/python3.10/dist-packages (from torch) (3.16.1)\n",
            "Requirement already satisfied: typing-extensions>=4.8.0 in /usr/local/lib/python3.10/dist-packages (from torch) (4.12.2)\n",
            "Requirement already satisfied: networkx in /usr/local/lib/python3.10/dist-packages (from torch) (3.4.2)\n",
            "Requirement already satisfied: jinja2 in /usr/local/lib/python3.10/dist-packages (from torch) (3.1.4)\n",
            "Requirement already satisfied: fsspec in /usr/local/lib/python3.10/dist-packages (from torch) (2024.10.0)\n",
            "Requirement already satisfied: sympy==1.13.1 in /usr/local/lib/python3.10/dist-packages (from torch) (1.13.1)\n",
            "Requirement already satisfied: mpmath<1.4,>=1.1.0 in /usr/local/lib/python3.10/dist-packages (from sympy==1.13.1->torch) (1.3.0)\n",
            "Requirement already satisfied: numpy in /usr/local/lib/python3.10/dist-packages (from torchvision) (1.26.4)\n",
            "Requirement already satisfied: pillow!=8.3.*,>=5.3.0 in /usr/local/lib/python3.10/dist-packages (from torchvision) (11.0.0)\n",
            "Requirement already satisfied: MarkupSafe>=2.0 in /usr/local/lib/python3.10/dist-packages (from jinja2->torch) (3.0.2)\n",
            "Requirement already satisfied: spacy in /usr/local/lib/python3.10/dist-packages (3.7.5)\n",
            "Requirement already satisfied: spacy-legacy<3.1.0,>=3.0.11 in /usr/local/lib/python3.10/dist-packages (from spacy) (3.0.12)\n",
            "Requirement already satisfied: spacy-loggers<2.0.0,>=1.0.0 in /usr/local/lib/python3.10/dist-packages (from spacy) (1.0.5)\n",
            "Requirement already satisfied: murmurhash<1.1.0,>=0.28.0 in /usr/local/lib/python3.10/dist-packages (from spacy) (1.0.11)\n",
            "Requirement already satisfied: cymem<2.1.0,>=2.0.2 in /usr/local/lib/python3.10/dist-packages (from spacy) (2.0.10)\n",
            "Requirement already satisfied: preshed<3.1.0,>=3.0.2 in /usr/local/lib/python3.10/dist-packages (from spacy) (3.0.9)\n",
            "Requirement already satisfied: thinc<8.3.0,>=8.2.2 in /usr/local/lib/python3.10/dist-packages (from spacy) (8.2.5)\n",
            "Requirement already satisfied: wasabi<1.2.0,>=0.9.1 in /usr/local/lib/python3.10/dist-packages (from spacy) (1.1.3)\n",
            "Requirement already satisfied: srsly<3.0.0,>=2.4.3 in /usr/local/lib/python3.10/dist-packages (from spacy) (2.4.8)\n",
            "Requirement already satisfied: catalogue<2.1.0,>=2.0.6 in /usr/local/lib/python3.10/dist-packages (from spacy) (2.0.10)\n",
            "Requirement already satisfied: weasel<0.5.0,>=0.1.0 in /usr/local/lib/python3.10/dist-packages (from spacy) (0.4.1)\n",
            "Requirement already satisfied: typer<1.0.0,>=0.3.0 in /usr/local/lib/python3.10/dist-packages (from spacy) (0.15.0)\n",
            "Requirement already satisfied: tqdm<5.0.0,>=4.38.0 in /usr/local/lib/python3.10/dist-packages (from spacy) (4.66.6)\n",
            "Requirement already satisfied: requests<3.0.0,>=2.13.0 in /usr/local/lib/python3.10/dist-packages (from spacy) (2.32.3)\n",
            "Requirement already satisfied: pydantic!=1.8,!=1.8.1,<3.0.0,>=1.7.4 in /usr/local/lib/python3.10/dist-packages (from spacy) (2.10.3)\n",
            "Requirement already satisfied: jinja2 in /usr/local/lib/python3.10/dist-packages (from spacy) (3.1.4)\n",
            "Requirement already satisfied: setuptools in /usr/local/lib/python3.10/dist-packages (from spacy) (75.1.0)\n",
            "Requirement already satisfied: packaging>=20.0 in /usr/local/lib/python3.10/dist-packages (from spacy) (24.2)\n",
            "Requirement already satisfied: langcodes<4.0.0,>=3.2.0 in /usr/local/lib/python3.10/dist-packages (from spacy) (3.5.0)\n",
            "Requirement already satisfied: numpy>=1.19.0 in /usr/local/lib/python3.10/dist-packages (from spacy) (1.26.4)\n",
            "Requirement already satisfied: language-data>=1.2 in /usr/local/lib/python3.10/dist-packages (from langcodes<4.0.0,>=3.2.0->spacy) (1.3.0)\n",
            "Requirement already satisfied: annotated-types>=0.6.0 in /usr/local/lib/python3.10/dist-packages (from pydantic!=1.8,!=1.8.1,<3.0.0,>=1.7.4->spacy) (0.7.0)\n",
            "Requirement already satisfied: pydantic-core==2.27.1 in /usr/local/lib/python3.10/dist-packages (from pydantic!=1.8,!=1.8.1,<3.0.0,>=1.7.4->spacy) (2.27.1)\n",
            "Requirement already satisfied: typing-extensions>=4.12.2 in /usr/local/lib/python3.10/dist-packages (from pydantic!=1.8,!=1.8.1,<3.0.0,>=1.7.4->spacy) (4.12.2)\n",
            "Requirement already satisfied: charset-normalizer<4,>=2 in /usr/local/lib/python3.10/dist-packages (from requests<3.0.0,>=2.13.0->spacy) (3.4.0)\n",
            "Requirement already satisfied: idna<4,>=2.5 in /usr/local/lib/python3.10/dist-packages (from requests<3.0.0,>=2.13.0->spacy) (3.10)\n",
            "Requirement already satisfied: urllib3<3,>=1.21.1 in /usr/local/lib/python3.10/dist-packages (from requests<3.0.0,>=2.13.0->spacy) (2.2.3)\n",
            "Requirement already satisfied: certifi>=2017.4.17 in /usr/local/lib/python3.10/dist-packages (from requests<3.0.0,>=2.13.0->spacy) (2024.8.30)\n",
            "Requirement already satisfied: blis<0.8.0,>=0.7.8 in /usr/local/lib/python3.10/dist-packages (from thinc<8.3.0,>=8.2.2->spacy) (0.7.11)\n",
            "Requirement already satisfied: confection<1.0.0,>=0.0.1 in /usr/local/lib/python3.10/dist-packages (from thinc<8.3.0,>=8.2.2->spacy) (0.1.5)\n",
            "Requirement already satisfied: click>=8.0.0 in /usr/local/lib/python3.10/dist-packages (from typer<1.0.0,>=0.3.0->spacy) (8.1.7)\n",
            "Requirement already satisfied: shellingham>=1.3.0 in /usr/local/lib/python3.10/dist-packages (from typer<1.0.0,>=0.3.0->spacy) (1.5.4)\n",
            "Requirement already satisfied: rich>=10.11.0 in /usr/local/lib/python3.10/dist-packages (from typer<1.0.0,>=0.3.0->spacy) (13.9.4)\n",
            "Requirement already satisfied: cloudpathlib<1.0.0,>=0.7.0 in /usr/local/lib/python3.10/dist-packages (from weasel<0.5.0,>=0.1.0->spacy) (0.20.0)\n",
            "Requirement already satisfied: smart-open<8.0.0,>=5.2.1 in /usr/local/lib/python3.10/dist-packages (from weasel<0.5.0,>=0.1.0->spacy) (7.0.5)\n",
            "Requirement already satisfied: MarkupSafe>=2.0 in /usr/local/lib/python3.10/dist-packages (from jinja2->spacy) (3.0.2)\n",
            "Requirement already satisfied: marisa-trie>=1.1.0 in /usr/local/lib/python3.10/dist-packages (from language-data>=1.2->langcodes<4.0.0,>=3.2.0->spacy) (1.2.1)\n",
            "Requirement already satisfied: markdown-it-py>=2.2.0 in /usr/local/lib/python3.10/dist-packages (from rich>=10.11.0->typer<1.0.0,>=0.3.0->spacy) (3.0.0)\n",
            "Requirement already satisfied: pygments<3.0.0,>=2.13.0 in /usr/local/lib/python3.10/dist-packages (from rich>=10.11.0->typer<1.0.0,>=0.3.0->spacy) (2.18.0)\n",
            "Requirement already satisfied: wrapt in /usr/local/lib/python3.10/dist-packages (from smart-open<8.0.0,>=5.2.1->weasel<0.5.0,>=0.1.0->spacy) (1.17.0)\n",
            "Requirement already satisfied: mdurl~=0.1 in /usr/local/lib/python3.10/dist-packages (from markdown-it-py>=2.2.0->rich>=10.11.0->typer<1.0.0,>=0.3.0->spacy) (0.1.2)\n",
            "Requirement already satisfied: tqdm in /usr/local/lib/python3.10/dist-packages (4.66.6)\n",
            "Requirement already satisfied: seaborn in /usr/local/lib/python3.10/dist-packages (0.13.2)\n",
            "Requirement already satisfied: numpy!=1.24.0,>=1.20 in /usr/local/lib/python3.10/dist-packages (from seaborn) (1.26.4)\n",
            "Requirement already satisfied: pandas>=1.2 in /usr/local/lib/python3.10/dist-packages (from seaborn) (2.2.2)\n",
            "Requirement already satisfied: matplotlib!=3.6.1,>=3.4 in /usr/local/lib/python3.10/dist-packages (from seaborn) (3.8.0)\n",
            "Requirement already satisfied: contourpy>=1.0.1 in /usr/local/lib/python3.10/dist-packages (from matplotlib!=3.6.1,>=3.4->seaborn) (1.3.1)\n",
            "Requirement already satisfied: cycler>=0.10 in /usr/local/lib/python3.10/dist-packages (from matplotlib!=3.6.1,>=3.4->seaborn) (0.12.1)\n",
            "Requirement already satisfied: fonttools>=4.22.0 in /usr/local/lib/python3.10/dist-packages (from matplotlib!=3.6.1,>=3.4->seaborn) (4.55.1)\n",
            "Requirement already satisfied: kiwisolver>=1.0.1 in /usr/local/lib/python3.10/dist-packages (from matplotlib!=3.6.1,>=3.4->seaborn) (1.4.7)\n",
            "Requirement already satisfied: packaging>=20.0 in /usr/local/lib/python3.10/dist-packages (from matplotlib!=3.6.1,>=3.4->seaborn) (24.2)\n",
            "Requirement already satisfied: pillow>=6.2.0 in /usr/local/lib/python3.10/dist-packages (from matplotlib!=3.6.1,>=3.4->seaborn) (11.0.0)\n",
            "Requirement already satisfied: pyparsing>=2.3.1 in /usr/local/lib/python3.10/dist-packages (from matplotlib!=3.6.1,>=3.4->seaborn) (3.2.0)\n",
            "Requirement already satisfied: python-dateutil>=2.7 in /usr/local/lib/python3.10/dist-packages (from matplotlib!=3.6.1,>=3.4->seaborn) (2.8.2)\n",
            "Requirement already satisfied: pytz>=2020.1 in /usr/local/lib/python3.10/dist-packages (from pandas>=1.2->seaborn) (2024.2)\n",
            "Requirement already satisfied: tzdata>=2022.7 in /usr/local/lib/python3.10/dist-packages (from pandas>=1.2->seaborn) (2024.2)\n",
            "Requirement already satisfied: six>=1.5 in /usr/local/lib/python3.10/dist-packages (from python-dateutil>=2.7->matplotlib!=3.6.1,>=3.4->seaborn) (1.16.0)\n",
            "Collecting en-core-web-sm==3.7.1\n",
            "  Downloading https://github.com/explosion/spacy-models/releases/download/en_core_web_sm-3.7.1/en_core_web_sm-3.7.1-py3-none-any.whl (12.8 MB)\n",
            "\u001b[2K     \u001b[90m━━━━━━━━━━━━━━━━━━━━━━━━━━━━━━━━━━━━━━━━\u001b[0m \u001b[32m12.8/12.8 MB\u001b[0m \u001b[31m100.4 MB/s\u001b[0m eta \u001b[36m0:00:00\u001b[0m\n",
            "\u001b[?25hRequirement already satisfied: spacy<3.8.0,>=3.7.2 in /usr/local/lib/python3.10/dist-packages (from en-core-web-sm==3.7.1) (3.7.5)\n",
            "Requirement already satisfied: spacy-legacy<3.1.0,>=3.0.11 in /usr/local/lib/python3.10/dist-packages (from spacy<3.8.0,>=3.7.2->en-core-web-sm==3.7.1) (3.0.12)\n",
            "Requirement already satisfied: spacy-loggers<2.0.0,>=1.0.0 in /usr/local/lib/python3.10/dist-packages (from spacy<3.8.0,>=3.7.2->en-core-web-sm==3.7.1) (1.0.5)\n",
            "Requirement already satisfied: murmurhash<1.1.0,>=0.28.0 in /usr/local/lib/python3.10/dist-packages (from spacy<3.8.0,>=3.7.2->en-core-web-sm==3.7.1) (1.0.11)\n",
            "Requirement already satisfied: cymem<2.1.0,>=2.0.2 in /usr/local/lib/python3.10/dist-packages (from spacy<3.8.0,>=3.7.2->en-core-web-sm==3.7.1) (2.0.10)\n",
            "Requirement already satisfied: preshed<3.1.0,>=3.0.2 in /usr/local/lib/python3.10/dist-packages (from spacy<3.8.0,>=3.7.2->en-core-web-sm==3.7.1) (3.0.9)\n",
            "Requirement already satisfied: thinc<8.3.0,>=8.2.2 in /usr/local/lib/python3.10/dist-packages (from spacy<3.8.0,>=3.7.2->en-core-web-sm==3.7.1) (8.2.5)\n",
            "Requirement already satisfied: wasabi<1.2.0,>=0.9.1 in /usr/local/lib/python3.10/dist-packages (from spacy<3.8.0,>=3.7.2->en-core-web-sm==3.7.1) (1.1.3)\n",
            "Requirement already satisfied: srsly<3.0.0,>=2.4.3 in /usr/local/lib/python3.10/dist-packages (from spacy<3.8.0,>=3.7.2->en-core-web-sm==3.7.1) (2.4.8)\n",
            "Requirement already satisfied: catalogue<2.1.0,>=2.0.6 in /usr/local/lib/python3.10/dist-packages (from spacy<3.8.0,>=3.7.2->en-core-web-sm==3.7.1) (2.0.10)\n",
            "Requirement already satisfied: weasel<0.5.0,>=0.1.0 in /usr/local/lib/python3.10/dist-packages (from spacy<3.8.0,>=3.7.2->en-core-web-sm==3.7.1) (0.4.1)\n",
            "Requirement already satisfied: typer<1.0.0,>=0.3.0 in /usr/local/lib/python3.10/dist-packages (from spacy<3.8.0,>=3.7.2->en-core-web-sm==3.7.1) (0.15.0)\n",
            "Requirement already satisfied: tqdm<5.0.0,>=4.38.0 in /usr/local/lib/python3.10/dist-packages (from spacy<3.8.0,>=3.7.2->en-core-web-sm==3.7.1) (4.66.6)\n",
            "Requirement already satisfied: requests<3.0.0,>=2.13.0 in /usr/local/lib/python3.10/dist-packages (from spacy<3.8.0,>=3.7.2->en-core-web-sm==3.7.1) (2.32.3)\n",
            "Requirement already satisfied: pydantic!=1.8,!=1.8.1,<3.0.0,>=1.7.4 in /usr/local/lib/python3.10/dist-packages (from spacy<3.8.0,>=3.7.2->en-core-web-sm==3.7.1) (2.10.3)\n",
            "Requirement already satisfied: jinja2 in /usr/local/lib/python3.10/dist-packages (from spacy<3.8.0,>=3.7.2->en-core-web-sm==3.7.1) (3.1.4)\n",
            "Requirement already satisfied: setuptools in /usr/local/lib/python3.10/dist-packages (from spacy<3.8.0,>=3.7.2->en-core-web-sm==3.7.1) (75.1.0)\n",
            "Requirement already satisfied: packaging>=20.0 in /usr/local/lib/python3.10/dist-packages (from spacy<3.8.0,>=3.7.2->en-core-web-sm==3.7.1) (24.2)\n",
            "Requirement already satisfied: langcodes<4.0.0,>=3.2.0 in /usr/local/lib/python3.10/dist-packages (from spacy<3.8.0,>=3.7.2->en-core-web-sm==3.7.1) (3.5.0)\n",
            "Requirement already satisfied: numpy>=1.19.0 in /usr/local/lib/python3.10/dist-packages (from spacy<3.8.0,>=3.7.2->en-core-web-sm==3.7.1) (1.26.4)\n",
            "Requirement already satisfied: language-data>=1.2 in /usr/local/lib/python3.10/dist-packages (from langcodes<4.0.0,>=3.2.0->spacy<3.8.0,>=3.7.2->en-core-web-sm==3.7.1) (1.3.0)\n",
            "Requirement already satisfied: annotated-types>=0.6.0 in /usr/local/lib/python3.10/dist-packages (from pydantic!=1.8,!=1.8.1,<3.0.0,>=1.7.4->spacy<3.8.0,>=3.7.2->en-core-web-sm==3.7.1) (0.7.0)\n",
            "Requirement already satisfied: pydantic-core==2.27.1 in /usr/local/lib/python3.10/dist-packages (from pydantic!=1.8,!=1.8.1,<3.0.0,>=1.7.4->spacy<3.8.0,>=3.7.2->en-core-web-sm==3.7.1) (2.27.1)\n",
            "Requirement already satisfied: typing-extensions>=4.12.2 in /usr/local/lib/python3.10/dist-packages (from pydantic!=1.8,!=1.8.1,<3.0.0,>=1.7.4->spacy<3.8.0,>=3.7.2->en-core-web-sm==3.7.1) (4.12.2)\n",
            "Requirement already satisfied: charset-normalizer<4,>=2 in /usr/local/lib/python3.10/dist-packages (from requests<3.0.0,>=2.13.0->spacy<3.8.0,>=3.7.2->en-core-web-sm==3.7.1) (3.4.0)\n",
            "Requirement already satisfied: idna<4,>=2.5 in /usr/local/lib/python3.10/dist-packages (from requests<3.0.0,>=2.13.0->spacy<3.8.0,>=3.7.2->en-core-web-sm==3.7.1) (3.10)\n",
            "Requirement already satisfied: urllib3<3,>=1.21.1 in /usr/local/lib/python3.10/dist-packages (from requests<3.0.0,>=2.13.0->spacy<3.8.0,>=3.7.2->en-core-web-sm==3.7.1) (2.2.3)\n",
            "Requirement already satisfied: certifi>=2017.4.17 in /usr/local/lib/python3.10/dist-packages (from requests<3.0.0,>=2.13.0->spacy<3.8.0,>=3.7.2->en-core-web-sm==3.7.1) (2024.8.30)\n",
            "Requirement already satisfied: blis<0.8.0,>=0.7.8 in /usr/local/lib/python3.10/dist-packages (from thinc<8.3.0,>=8.2.2->spacy<3.8.0,>=3.7.2->en-core-web-sm==3.7.1) (0.7.11)\n",
            "Requirement already satisfied: confection<1.0.0,>=0.0.1 in /usr/local/lib/python3.10/dist-packages (from thinc<8.3.0,>=8.2.2->spacy<3.8.0,>=3.7.2->en-core-web-sm==3.7.1) (0.1.5)\n",
            "Requirement already satisfied: click>=8.0.0 in /usr/local/lib/python3.10/dist-packages (from typer<1.0.0,>=0.3.0->spacy<3.8.0,>=3.7.2->en-core-web-sm==3.7.1) (8.1.7)\n",
            "Requirement already satisfied: shellingham>=1.3.0 in /usr/local/lib/python3.10/dist-packages (from typer<1.0.0,>=0.3.0->spacy<3.8.0,>=3.7.2->en-core-web-sm==3.7.1) (1.5.4)\n",
            "Requirement already satisfied: rich>=10.11.0 in /usr/local/lib/python3.10/dist-packages (from typer<1.0.0,>=0.3.0->spacy<3.8.0,>=3.7.2->en-core-web-sm==3.7.1) (13.9.4)\n",
            "Requirement already satisfied: cloudpathlib<1.0.0,>=0.7.0 in /usr/local/lib/python3.10/dist-packages (from weasel<0.5.0,>=0.1.0->spacy<3.8.0,>=3.7.2->en-core-web-sm==3.7.1) (0.20.0)\n",
            "Requirement already satisfied: smart-open<8.0.0,>=5.2.1 in /usr/local/lib/python3.10/dist-packages (from weasel<0.5.0,>=0.1.0->spacy<3.8.0,>=3.7.2->en-core-web-sm==3.7.1) (7.0.5)\n",
            "Requirement already satisfied: MarkupSafe>=2.0 in /usr/local/lib/python3.10/dist-packages (from jinja2->spacy<3.8.0,>=3.7.2->en-core-web-sm==3.7.1) (3.0.2)\n",
            "Requirement already satisfied: marisa-trie>=1.1.0 in /usr/local/lib/python3.10/dist-packages (from language-data>=1.2->langcodes<4.0.0,>=3.2.0->spacy<3.8.0,>=3.7.2->en-core-web-sm==3.7.1) (1.2.1)\n",
            "Requirement already satisfied: markdown-it-py>=2.2.0 in /usr/local/lib/python3.10/dist-packages (from rich>=10.11.0->typer<1.0.0,>=0.3.0->spacy<3.8.0,>=3.7.2->en-core-web-sm==3.7.1) (3.0.0)\n",
            "Requirement already satisfied: pygments<3.0.0,>=2.13.0 in /usr/local/lib/python3.10/dist-packages (from rich>=10.11.0->typer<1.0.0,>=0.3.0->spacy<3.8.0,>=3.7.2->en-core-web-sm==3.7.1) (2.18.0)\n",
            "Requirement already satisfied: wrapt in /usr/local/lib/python3.10/dist-packages (from smart-open<8.0.0,>=5.2.1->weasel<0.5.0,>=0.1.0->spacy<3.8.0,>=3.7.2->en-core-web-sm==3.7.1) (1.17.0)\n",
            "Requirement already satisfied: mdurl~=0.1 in /usr/local/lib/python3.10/dist-packages (from markdown-it-py>=2.2.0->rich>=10.11.0->typer<1.0.0,>=0.3.0->spacy<3.8.0,>=3.7.2->en-core-web-sm==3.7.1) (0.1.2)\n",
            "\u001b[38;5;2m✔ Download and installation successful\u001b[0m\n",
            "You can now load the package via spacy.load('en_core_web_sm')\n",
            "\u001b[38;5;3m⚠ Restart to reload dependencies\u001b[0m\n",
            "If you are in a Jupyter or Colab notebook, you may need to restart Python in\n",
            "order to load all the package's dependencies. You can do this by selecting the\n",
            "'Restart kernel' or 'Restart runtime' option.\n"
          ]
        }
      ],
      "source": [
        "# Install necessary libraries\n",
        "!pip install torch torchvision torchaudio --extra-index-url https://download.pytorch.org/whl/cu117\n",
        "!pip install spacy\n",
        "!pip install tqdm seaborn\n",
        "!python -m spacy download en_core_web_sm\n"
      ]
    },
    {
      "cell_type": "markdown",
      "source": [
        "**Import Libraries**\n",
        "\n",
        "Import all the required libraries for data processing, model building, training, and visualization."
      ],
      "metadata": {
        "id": "_4mnwNUkiMz7"
      }
    },
    {
      "cell_type": "code",
      "source": [
        "import os\n",
        "import torch\n",
        "import random\n",
        "import math\n",
        "import numpy as np\n",
        "import torch.nn as nn\n",
        "import torch.optim as optim\n",
        "import matplotlib.pyplot as plt\n",
        "import seaborn as sns\n",
        "from torch.utils.data import DataLoader, Dataset\n",
        "from torch.nn.utils.rnn import pad_sequence\n",
        "from tqdm import tqdm  # Progress bar\n",
        "from sklearn.metrics import confusion_matrix, ConfusionMatrixDisplay\n",
        "import spacy\n",
        "from collections import Counter\n"
      ],
      "metadata": {
        "id": "_j8f4zqEiOkO"
      },
      "execution_count": 35,
      "outputs": []
    },
    {
      "cell_type": "markdown",
      "source": [
        "**Set Seeds and Device**\n",
        "\n",
        "Setting seeds ensures reproducibility of results. Check if a GPU is available for faster computation."
      ],
      "metadata": {
        "id": "jE-osEHoiQx-"
      }
    },
    {
      "cell_type": "code",
      "source": [
        "# Print PyTorch and CUDA information\n",
        "print(\"PyTorch Version:\", torch.__version__)\n",
        "print(\"CUDA Available:\", torch.cuda.is_available())\n",
        "print(\"Number of GPUs:\", torch.cuda.device_count())\n",
        "print(\"GPU Name:\", torch.cuda.get_device_name(0) if torch.cuda.is_available() else \"No GPU detected\")\n",
        "\n",
        "# Set seeds for reproducibility\n",
        "SEED = 1234\n",
        "random.seed(SEED)\n",
        "np.random.seed(SEED)\n",
        "torch.manual_seed(SEED)\n",
        "torch.cuda.manual_seed(SEED)\n",
        "torch.backends.cudnn.deterministic = True\n",
        "\n",
        "# Set device\n",
        "device = torch.device('cuda' if torch.cuda.is_available() else 'cpu')\n",
        "print(f\"Using device: {device}\")\n"
      ],
      "metadata": {
        "id": "phn1Cr-SiRcm",
        "colab": {
          "base_uri": "https://localhost:8080/"
        },
        "outputId": "c4b52501-b04d-4d83-de0e-072d62d73be1"
      },
      "execution_count": 36,
      "outputs": [
        {
          "output_type": "stream",
          "name": "stdout",
          "text": [
            "PyTorch Version: 2.5.1+cu121\n",
            "CUDA Available: True\n",
            "Number of GPUs: 1\n",
            "GPU Name: NVIDIA A100-SXM4-40GB\n",
            "Using device: cuda\n"
          ]
        }
      ]
    },
    {
      "cell_type": "markdown",
      "source": [
        "**Prepare Dataset**\n",
        "\n",
        "Use the pre-extracted dataset. They data is organized into CSV files with one sentence per line."
      ],
      "metadata": {
        "id": "qkwlica2iTXo"
      }
    },
    {
      "cell_type": "code",
      "source": [
        "# Helper function to read a CSV file with one sentence per line\n",
        "def read_csv_file(filepath, label, max_samples=None):\n",
        "    data = []\n",
        "    with open(filepath, 'r', encoding='utf-8') as f:\n",
        "        for i, line in enumerate(f):\n",
        "            if max_samples and i >= max_samples:\n",
        "                break\n",
        "            text = line.strip()\n",
        "            if text:\n",
        "                data.append((label, text))\n",
        "    return data\n",
        "\n",
        "\n",
        "DATA_DIR = \"/content\"\n",
        "\n",
        "\n",
        "# Specify the maximum number of samples per file (e.g., 5000)\n",
        "MAX_SAMPLES = 5000\n",
        "\n",
        "# Read the CSV files\n",
        "train_pos = read_csv_file(os.path.join(DATA_DIR, 'train_pos.csv'), label=1, max_samples=MAX_SAMPLES)\n",
        "train_neg = read_csv_file(os.path.join(DATA_DIR, 'train_neg.csv'), label=0, max_samples=MAX_SAMPLES)\n",
        "test_pos = read_csv_file(os.path.join(DATA_DIR, 'test_pos.csv'), label=1, max_samples=MAX_SAMPLES)\n",
        "test_neg = read_csv_file(os.path.join(DATA_DIR, 'test_neg.csv'), label=0, max_samples=MAX_SAMPLES)\n",
        "\n",
        "# Optionally read unsupervised training data if available\n",
        "# train_unsup = read_csv_file(os.path.join(DATA_DIR, 'train_unsup.csv'), label=None, max_samples=MAX_SAMPLES)\n",
        "# train_data = train_pos + train_neg + train_unsup\n",
        "# Otherwise, proceed without unsupervised data\n",
        "train_data = train_pos + train_neg\n",
        "test_data = test_pos + test_neg\n",
        "\n",
        "print(f\"Total training samples: {len(train_data)}\")\n",
        "print(f\"Total test samples: {len(test_data)}\")"
      ],
      "metadata": {
        "id": "KPUUsK9jiUPL",
        "colab": {
          "base_uri": "https://localhost:8080/"
        },
        "outputId": "dbf45be8-9b78-4ad8-b969-ceecf484fcb3"
      },
      "execution_count": 37,
      "outputs": [
        {
          "output_type": "stream",
          "name": "stdout",
          "text": [
            "Total training samples: 10000\n",
            "Total test samples: 10000\n"
          ]
        }
      ]
    },
    {
      "cell_type": "markdown",
      "source": [
        "**Tokenization and Vocabulary Building**\n",
        "\n",
        "Tokenization splits sentences into words (tokens). Use spacy for efficient tokenization. After tokenizing, willbuild a vocabulary mapping each unique token to an integer index."
      ],
      "metadata": {
        "id": "91z_N8FyiVVJ"
      }
    },
    {
      "cell_type": "code",
      "source": [
        "# Load spaCy English model\n",
        "try:\n",
        "    nlp = spacy.load(\"en_core_web_sm\")\n",
        "    print(\"spaCy model loaded successfully.\")\n",
        "except OSError:\n",
        "    print(\"spaCy model not found. Downloading 'en_core_web_sm'...\")\n",
        "    from spacy.cli import download\n",
        "    download(\"en_core_web_sm\")\n",
        "    nlp = spacy.load(\"en_core_web_sm\")\n",
        "    print(\"spaCy model loaded successfully after downloading.\")\n",
        "\n",
        "# Tokenization function\n",
        "def tokenize(text, nlp):\n",
        "    return [tok.text.lower() for tok in nlp(text)]\n",
        "\n",
        "# Example tokenization\n",
        "sample_text = \"This is a fantastic movie! I loved every moment of it.\"\n",
        "tokens = tokenize(sample_text, nlp)\n",
        "print(f\"Tokens: {tokens}\")\n",
        "\n",
        "# Build Vocabulary\n",
        "texts = [text for label, text in train_data]\n",
        "\n",
        "# Initialize Counter\n",
        "counter = Counter()\n",
        "\n",
        "# Tokenize all texts and update the counter\n",
        "print(\"Building vocabulary...\")\n",
        "for doc in tqdm(nlp.pipe(texts, batch_size=1000, disable=[\"parser\", \"ner\"]), total=len(texts), desc=\"Tokenizing\"):\n",
        "    tokens = [tok.text.lower() for tok in doc]\n",
        "    counter.update(tokens)\n",
        "\n",
        "# Keep top 25,000 words\n",
        "most_common = counter.most_common(25000)\n",
        "vocab_words = [word for word, freq in most_common]\n",
        "\n",
        "# Add special tokens\n",
        "special_tokens = ['<pad>', '<unk>']\n",
        "stoi = {w: i + len(special_tokens) for i, w in enumerate(vocab_words)}\n",
        "stoi['<pad>'] = 0\n",
        "stoi['<unk>'] = 1\n",
        "itos = {i: w for w, i in stoi.items()}\n",
        "\n",
        "print(f\"Vocabulary size: {len(stoi)}\")\n"
      ],
      "metadata": {
        "id": "G166YYziiWAY",
        "colab": {
          "base_uri": "https://localhost:8080/"
        },
        "outputId": "d18922f2-d850-4b2a-fc02-36d503b84b72"
      },
      "execution_count": 38,
      "outputs": [
        {
          "output_type": "stream",
          "name": "stderr",
          "text": [
            "/usr/local/lib/python3.10/dist-packages/spacy/util.py:1740: UserWarning: [W111] Jupyter notebook detected: if using `prefer_gpu()` or `require_gpu()`, include it in the same cell right before `spacy.load()` to ensure that the model is loaded on the correct device. More information: http://spacy.io/usage/v3#jupyter-notebook-gpu\n",
            "  warnings.warn(Warnings.W111)\n"
          ]
        },
        {
          "output_type": "stream",
          "name": "stdout",
          "text": [
            "spaCy model loaded successfully.\n",
            "Tokens: ['this', 'is', 'a', 'fantastic', 'movie', '!', 'i', 'loved', 'every', 'moment', 'of', 'it', '.']\n",
            "Building vocabulary...\n"
          ]
        },
        {
          "output_type": "stream",
          "name": "stderr",
          "text": [
            "Tokenizing: 100%|██████████| 10000/10000 [00:19<00:00, 525.42it/s]"
          ]
        },
        {
          "output_type": "stream",
          "name": "stdout",
          "text": [
            "Vocabulary size: 18111\n"
          ]
        },
        {
          "output_type": "stream",
          "name": "stderr",
          "text": [
            "\n"
          ]
        }
      ]
    },
    {
      "cell_type": "markdown",
      "source": [
        "**Create PyTorch Dataset and DataLoader**\n",
        "\n",
        "Create a custom Dataset class to handle our data and a DataLoader for batching. Padding ensures that all sequences in a batch have the same length."
      ],
      "metadata": {
        "id": "FR_hDzNgiXa0"
      }
    },
    {
      "cell_type": "code",
      "source": [
        "# Define a custom Dataset\n",
        "class IMDBDataset(Dataset):\n",
        "    def __init__(self, data, stoi, nlp, max_length=None):\n",
        "        self.data = data\n",
        "        self.stoi = stoi\n",
        "        self.nlp = nlp\n",
        "        self.max_length = max_length\n",
        "\n",
        "    def __len__(self):\n",
        "        return len(self.data)\n",
        "\n",
        "    def __getitem__(self, idx):\n",
        "        label, text = self.data[idx]\n",
        "        tokens = tokenize(text, self.nlp)\n",
        "        numericalized = [self.stoi.get(t, self.stoi['<unk>']) for t in tokens]\n",
        "        if self.max_length:\n",
        "            numericalized = numericalized[:self.max_length]\n",
        "        return torch.tensor(numericalized, dtype=torch.long), torch.tensor(label, dtype=torch.float)\n",
        "\n",
        "# Define a Collate Function for DataLoader\n",
        "class CollateFn:\n",
        "    def __init__(self, pad_idx):\n",
        "        self.pad_idx = pad_idx\n",
        "\n",
        "    def __call__(self, batch):\n",
        "        texts, labels = zip(*batch)\n",
        "        lengths = torch.tensor([len(x) for x in texts], dtype=torch.long)\n",
        "        padded_texts = pad_sequence(texts, batch_first=True, padding_value=self.pad_idx)\n",
        "        return padded_texts, lengths, torch.tensor(labels, dtype=torch.float)\n",
        "\n",
        "# Split training data into train and validation sets\n",
        "random.shuffle(train_data)\n",
        "split_ratio = 0.8\n",
        "split_index = int(len(train_data) * split_ratio)\n",
        "valid_data = train_data[split_index:]\n",
        "train_data = train_data[:split_index]\n",
        "\n",
        "print(f\"Train samples: {len(train_data)}\")\n",
        "print(f\"Validation samples: {len(valid_data)}\")\n",
        "print(f\"Test samples: {len(test_data)}\")\n",
        "\n",
        "# Create datasets\n",
        "MAX_LENGTH = 256\n",
        "train_dataset = IMDBDataset(train_data, stoi, nlp, max_length=MAX_LENGTH)\n",
        "valid_dataset = IMDBDataset(valid_data, stoi, nlp, max_length=MAX_LENGTH)\n",
        "test_dataset = IMDBDataset(test_data, stoi, nlp, max_length=MAX_LENGTH)\n",
        "\n",
        "# Create DataLoaders\n",
        "PAD_IDX = stoi['<pad>']\n",
        "collate_fn_instance = CollateFn(pad_idx=PAD_IDX)\n",
        "\n",
        "BATCH_SIZE = 128\n",
        "NUM_WORKERS = 4\n",
        "train_loader = DataLoader(\n",
        "    train_dataset,\n",
        "    batch_size=BATCH_SIZE,\n",
        "    shuffle=True,\n",
        "    collate_fn=collate_fn_instance,\n",
        "    num_workers=NUM_WORKERS,\n",
        "    pin_memory=True\n",
        ")\n",
        "valid_loader = DataLoader(\n",
        "    valid_dataset,\n",
        "    batch_size=BATCH_SIZE,\n",
        "    shuffle=False,\n",
        "    collate_fn=collate_fn_instance,\n",
        "    num_workers=NUM_WORKERS,\n",
        "    pin_memory=True\n",
        ")\n",
        "test_loader = DataLoader(\n",
        "    test_dataset,\n",
        "    batch_size=BATCH_SIZE,\n",
        "    shuffle=False,\n",
        "    collate_fn=collate_fn_instance,\n",
        "    num_workers=NUM_WORKERS,\n",
        "    pin_memory=True\n",
        ")\n",
        "\n",
        "print(\"DataLoaders created.\")\n"
      ],
      "metadata": {
        "id": "gAPqNQe9iYAi",
        "colab": {
          "base_uri": "https://localhost:8080/"
        },
        "outputId": "cde2de2d-d660-4e06-e44e-cdb4f17d9358"
      },
      "execution_count": 39,
      "outputs": [
        {
          "output_type": "stream",
          "name": "stdout",
          "text": [
            "Train samples: 8000\n",
            "Validation samples: 2000\n",
            "Test samples: 10000\n",
            "DataLoaders created.\n"
          ]
        }
      ]
    },
    {
      "cell_type": "markdown",
      "source": [
        "**Define the RNN Model**\n",
        "\n",
        "Define an RNN model with LSTM layers. The model includes an embedding layer, LSTM, dropout, and a fully connected layer for binary classification."
      ],
      "metadata": {
        "id": "uVj24MaciZMT"
      }
    },
    {
      "cell_type": "code",
      "source": [
        "# Positional Encoding to add positional information to token embeddings\n",
        "class PositionalEncoding(nn.Module):\n",
        "    def __init__(self, d_model, dropout=0.1, max_len=5000):\n",
        "        super().__init__()\n",
        "        self.dropout = nn.Dropout(p=dropout)\n",
        "\n",
        "        # Create a matrix of shape (max_len, d_model) where each row\n",
        "        # is the positional encoding for a particular token position.\n",
        "        position = torch.arange(0, max_len).unsqueeze(1)\n",
        "        div_term = torch.exp(torch.arange(0, d_model, 2) * (-math.log(10000.0) / d_model))\n",
        "        pe = torch.zeros(max_len, d_model)\n",
        "        pe[:, 0::2] = torch.sin(position * div_term)   # even positions\n",
        "        pe[:, 1::2] = torch.cos(position * div_term)   # odd positions\n",
        "        pe = pe.unsqueeze(0)  # shape: (1, max_len, d_model)\n",
        "        self.register_buffer('pe', pe)\n",
        "\n",
        "    def forward(self, x):\n",
        "        # x shape: (batch_size, seq_len, d_model)\n",
        "        # Add positional encodings\n",
        "        x = x + self.pe[:, :x.size(1), :]\n",
        "        return self.dropout(x)\n",
        "\n",
        "\n",
        "class TransformerClassifier(nn.Module):\n",
        "    def __init__(self, vocab_size, embedding_dim, n_heads, num_encoder_layers, hidden_dim, output_dim, max_length, pad_idx, dropout=0.1):\n",
        "        super().__init__()\n",
        "        self.embedding = nn.Embedding(vocab_size, embedding_dim, padding_idx=pad_idx)\n",
        "        self.pos_encoder = PositionalEncoding(embedding_dim, dropout, max_len=max_length)\n",
        "\n",
        "        # Transformer Encoder\n",
        "        encoder_layers = nn.TransformerEncoderLayer(\n",
        "            d_model=embedding_dim,\n",
        "            nhead=n_heads,\n",
        "            dim_feedforward=hidden_dim,\n",
        "            dropout=dropout,\n",
        "            batch_first=True\n",
        "        )\n",
        "        self.transformer_encoder = nn.TransformerEncoder(encoder_layers, num_layers=num_encoder_layers)\n",
        "\n",
        "        # Classification head\n",
        "        self.fc = nn.Linear(embedding_dim, output_dim)\n",
        "        self.dropout = nn.Dropout(dropout)\n",
        "\n",
        "        # Initialize weights\n",
        "        self._init_weights()\n",
        "\n",
        "    def _init_weights(self):\n",
        "        nn.init.normal_(self.fc.weight, mean=0, std=0.1)\n",
        "        nn.init.constant_(self.fc.bias, 0)\n",
        "\n",
        "    def forward(self, text, lengths):\n",
        "        # text shape: (batch_size, seq_len)\n",
        "        embedded = self.embedding(text)   # (batch_size, seq_len, embedding_dim)\n",
        "        embedded = self.pos_encoder(embedded) # add positional encoding\n",
        "\n",
        "        # Create a mask to avoid attention on padding tokens\n",
        "        # Transformer expects masks in the form: True for tokens to mask\n",
        "        # We'll create a mask where True = PAD token\n",
        "        pad_mask = (text == PAD_IDX)\n",
        "        # pad_mask shape: (batch_size, seq_len)\n",
        "\n",
        "        # TransformerEncoder: (batch_size, seq_len, embedding_dim)\n",
        "        encoder_output = self.transformer_encoder(embedded, src_key_padding_mask=pad_mask)\n",
        "\n",
        "        # We can use the representation of the first token or an average pooling\n",
        "        # Here, let's try average pooling over all non-pad tokens\n",
        "        # mask out pad positions before pooling\n",
        "        lengths = lengths.unsqueeze(1)  # shape: (batch_size, 1)\n",
        "        mask = ~pad_mask  # True where not pad\n",
        "        mask = mask.unsqueeze(-1).expand(encoder_output.size()) # (batch_size, seq_len, embedding_dim)\n",
        "\n",
        "        # Sum over non-pad tokens\n",
        "        sum_enc = (encoder_output * mask).sum(dim=1)  # (batch_size, embedding_dim)\n",
        "        # Divide by the number of non-pad tokens to get average\n",
        "        avg_enc = sum_enc / lengths  # (batch_size, embedding_dim)\n",
        "\n",
        "        output = self.fc(self.dropout(avg_enc))  # (batch_size, output_dim)\n",
        "        return output.squeeze(1)\n"
      ],
      "metadata": {
        "id": "YwqU9lehiZ4a"
      },
      "execution_count": 40,
      "outputs": []
    },
    {
      "cell_type": "markdown",
      "source": [
        "**Training and Evaluation**\n",
        "\n",
        "Define the training and evaluation functions. Use Binary Cross-Entropy loss with logits and the Adam optimizer. Also track accuracy during training."
      ],
      "metadata": {
        "id": "q3Fih089iaoY"
      }
    },
    {
      "cell_type": "code",
      "source": [
        "# Initialize Model, Optimizer, Loss\n",
        "EMBEDDING_DIM = 100\n",
        "HIDDEN_DIM = 256\n",
        "OUTPUT_DIM = 1\n",
        "N_LAYERS = 2\n",
        "BIDIRECTIONAL = True\n",
        "DROPOUT = 0.2\n",
        "N_HEADS = 1\n",
        "NUM_ENCODER_LAYERS = 2\n",
        "\n",
        "\n",
        "model = TransformerClassifier(\n",
        "    vocab_size=len(stoi),\n",
        "    embedding_dim=EMBEDDING_DIM,\n",
        "    n_heads=N_HEADS,\n",
        "    num_encoder_layers=NUM_ENCODER_LAYERS,\n",
        "    hidden_dim=HIDDEN_DIM,\n",
        "    output_dim=OUTPUT_DIM,\n",
        "    max_length=MAX_LENGTH,\n",
        "    pad_idx=PAD_IDX,\n",
        "    dropout=DROPOUT\n",
        ")\n",
        "\n",
        "model.embedding.weight.data[PAD_IDX] = torch.zeros(EMBEDDING_DIM)\n",
        "model.embedding.weight.data[stoi['<unk>']] = torch.zeros(EMBEDDING_DIM)\n",
        "\n",
        "model = model.to(device)\n",
        "\n",
        "optimizer = torch.optim.Adam(model.parameters(), lr=1e-3, weight_decay=1e-4)\n",
        "criterion = nn.BCEWithLogitsLoss().to(device)\n",
        "\n",
        "def binary_accuracy(preds, y):\n",
        "    probs = torch.sigmoid(preds)\n",
        "    rounded = torch.round(probs)\n",
        "    correct = (rounded == y).float()\n",
        "    return correct.sum() / len(correct)\n",
        "\n",
        "def train_fn(model, loader, optimizer, criterion, device):\n",
        "    model.train()\n",
        "    epoch_loss = 0\n",
        "    epoch_acc = 0\n",
        "    for texts, lengths, labels in loader:\n",
        "        texts, lengths, labels = texts.to(device), lengths.to(device), labels.to(device)\n",
        "        optimizer.zero_grad()\n",
        "        predictions = model(texts, lengths)\n",
        "        loss = criterion(predictions, labels)\n",
        "        acc = binary_accuracy(predictions, labels)\n",
        "        loss.backward()\n",
        "        optimizer.step()\n",
        "        epoch_loss += loss.item()\n",
        "        epoch_acc += acc.item()\n",
        "    return epoch_loss / len(loader), epoch_acc / len(loader)\n",
        "\n",
        "def eval_fn(model, loader, criterion, device):\n",
        "    model.eval()\n",
        "    epoch_loss = 0\n",
        "    epoch_acc = 0\n",
        "    with torch.no_grad():\n",
        "        for texts, lengths, labels in loader:\n",
        "            texts, lengths, labels = texts.to(device), lengths.to(device), labels.to(device)\n",
        "            predictions = model(texts, lengths)\n",
        "            loss = criterion(predictions, labels)\n",
        "            acc = binary_accuracy(predictions, labels)\n",
        "            epoch_loss += loss.item()\n",
        "            epoch_acc += acc.item()\n",
        "    return epoch_loss / len(loader), epoch_acc / len(loader)"
      ],
      "metadata": {
        "id": "XQK5JWdoibHY",
        "colab": {
          "base_uri": "https://localhost:8080/"
        },
        "outputId": "cb03c40f-ca50-4907-9fc1-3e514a3f4984"
      },
      "execution_count": 41,
      "outputs": [
        {
          "output_type": "stream",
          "name": "stderr",
          "text": [
            "/usr/local/lib/python3.10/dist-packages/torch/nn/modules/transformer.py:379: UserWarning: enable_nested_tensor is True, but self.use_nested_tensor is False because encoder_layer.self_attn.num_heads is odd\n",
            "  warnings.warn(\n"
          ]
        }
      ]
    },
    {
      "cell_type": "markdown",
      "source": [
        "**Train the Model**\n",
        "\n",
        "Train the model for a specified number of epochs, saving the best model based on validation loss."
      ],
      "metadata": {
        "id": "6fnsJ84ric24"
      }
    },
    {
      "cell_type": "code",
      "source": [
        "# Train the Model\n",
        "N_EPOCHS = 30\n",
        "best_valid_loss = float('inf')\n",
        "\n",
        "train_losses, valid_losses = [], []\n",
        "train_accuracies, valid_accuracies = [], []\n",
        "\n",
        "for epoch in range(N_EPOCHS):\n",
        "    print(f\"Epoch: {epoch + 1}/{N_EPOCHS}\")\n",
        "    train_loss, train_acc = train_fn(model, train_loader, optimizer, criterion, device)\n",
        "    valid_loss, valid_acc = eval_fn(model, valid_loader, criterion, device)\n",
        "\n",
        "    train_losses.append(train_loss)\n",
        "    valid_losses.append(valid_loss)\n",
        "    train_accuracies.append(train_acc)\n",
        "    valid_accuracies.append(valid_acc)\n",
        "\n",
        "    if valid_loss < best_valid_loss:\n",
        "        best_valid_loss = valid_loss\n",
        "        torch.save(model.state_dict(), 'best-model.pt')\n",
        "        print(f\"  Best model saved (Validation Loss: {valid_loss:.4f})\")\n",
        "\n",
        "    print(f\"  Train Loss: {train_loss:.4f} | Train Acc: {train_acc * 100:.2f}%\")\n",
        "    print(f\"  Valid Loss: {valid_loss:.4f} | Valid Acc: {valid_acc * 100:.2f}%\\n\")\n"
      ],
      "metadata": {
        "id": "6OYjDbU2idwL",
        "colab": {
          "base_uri": "https://localhost:8080/"
        },
        "outputId": "8908b299-486d-46a0-8c36-957a626fab6a"
      },
      "execution_count": 42,
      "outputs": [
        {
          "output_type": "stream",
          "name": "stdout",
          "text": [
            "Epoch: 1/30\n",
            "  Best model saved (Validation Loss: 0.6792)\n",
            "  Train Loss: 0.7043 | Train Acc: 52.62%\n",
            "  Valid Loss: 0.6792 | Valid Acc: 56.46%\n",
            "\n",
            "Epoch: 2/30\n",
            "  Train Loss: 0.6867 | Train Acc: 55.58%\n",
            "  Valid Loss: 0.6926 | Valid Acc: 53.42%\n",
            "\n",
            "Epoch: 3/30\n",
            "  Best model saved (Validation Loss: 0.6655)\n",
            "  Train Loss: 0.6734 | Train Acc: 57.48%\n",
            "  Valid Loss: 0.6655 | Valid Acc: 60.25%\n",
            "\n",
            "Epoch: 4/30\n",
            "  Best model saved (Validation Loss: 0.6645)\n",
            "  Train Loss: 0.6619 | Train Acc: 60.65%\n",
            "  Valid Loss: 0.6645 | Valid Acc: 61.20%\n",
            "\n",
            "Epoch: 5/30\n",
            "  Train Loss: 0.6578 | Train Acc: 60.71%\n",
            "  Valid Loss: 0.6660 | Valid Acc: 60.51%\n",
            "\n",
            "Epoch: 6/30\n",
            "  Best model saved (Validation Loss: 0.6385)\n",
            "  Train Loss: 0.6465 | Train Acc: 62.36%\n",
            "  Valid Loss: 0.6385 | Valid Acc: 63.96%\n",
            "\n",
            "Epoch: 7/30\n",
            "  Best model saved (Validation Loss: 0.6302)\n",
            "  Train Loss: 0.6382 | Train Acc: 63.45%\n",
            "  Valid Loss: 0.6302 | Valid Acc: 64.40%\n",
            "\n",
            "Epoch: 8/30\n",
            "  Train Loss: 0.6278 | Train Acc: 64.78%\n",
            "  Valid Loss: 0.6348 | Valid Acc: 64.21%\n",
            "\n",
            "Epoch: 9/30\n",
            "  Best model saved (Validation Loss: 0.6218)\n",
            "  Train Loss: 0.6092 | Train Acc: 67.06%\n",
            "  Valid Loss: 0.6218 | Valid Acc: 65.76%\n",
            "\n",
            "Epoch: 10/30\n",
            "  Train Loss: 0.5934 | Train Acc: 68.18%\n",
            "  Valid Loss: 0.6292 | Valid Acc: 64.67%\n",
            "\n",
            "Epoch: 11/30\n",
            "  Best model saved (Validation Loss: 0.6186)\n",
            "  Train Loss: 0.5773 | Train Acc: 69.87%\n",
            "  Valid Loss: 0.6186 | Valid Acc: 67.35%\n",
            "\n",
            "Epoch: 12/30\n",
            "  Best model saved (Validation Loss: 0.6128)\n",
            "  Train Loss: 0.5685 | Train Acc: 70.59%\n",
            "  Valid Loss: 0.6128 | Valid Acc: 67.51%\n",
            "\n",
            "Epoch: 13/30\n",
            "  Best model saved (Validation Loss: 0.5994)\n",
            "  Train Loss: 0.5474 | Train Acc: 72.09%\n",
            "  Valid Loss: 0.5994 | Valid Acc: 69.16%\n",
            "\n",
            "Epoch: 14/30\n",
            "  Train Loss: 0.5242 | Train Acc: 73.93%\n",
            "  Valid Loss: 0.6165 | Valid Acc: 70.22%\n",
            "\n",
            "Epoch: 15/30\n",
            "  Train Loss: 0.5109 | Train Acc: 74.40%\n",
            "  Valid Loss: 0.6219 | Valid Acc: 69.47%\n",
            "\n",
            "Epoch: 16/30\n",
            "  Train Loss: 0.4975 | Train Acc: 75.55%\n",
            "  Valid Loss: 0.6311 | Valid Acc: 70.09%\n",
            "\n",
            "Epoch: 17/30\n",
            "  Best model saved (Validation Loss: 0.5959)\n",
            "  Train Loss: 0.4798 | Train Acc: 77.18%\n",
            "  Valid Loss: 0.5959 | Valid Acc: 71.16%\n",
            "\n",
            "Epoch: 18/30\n",
            "  Best model saved (Validation Loss: 0.5860)\n",
            "  Train Loss: 0.4485 | Train Acc: 79.38%\n",
            "  Valid Loss: 0.5860 | Valid Acc: 71.88%\n",
            "\n",
            "Epoch: 19/30\n",
            "  Train Loss: 0.4282 | Train Acc: 80.26%\n",
            "  Valid Loss: 0.5992 | Valid Acc: 72.68%\n",
            "\n",
            "Epoch: 20/30\n",
            "  Train Loss: 0.4152 | Train Acc: 80.77%\n",
            "  Valid Loss: 0.6179 | Valid Acc: 71.73%\n",
            "\n",
            "Epoch: 21/30\n",
            "  Train Loss: 0.3917 | Train Acc: 82.43%\n",
            "  Valid Loss: 0.6707 | Valid Acc: 71.35%\n",
            "\n",
            "Epoch: 22/30\n",
            "  Train Loss: 0.3762 | Train Acc: 82.59%\n",
            "  Valid Loss: 0.6361 | Valid Acc: 71.78%\n",
            "\n",
            "Epoch: 23/30\n",
            "  Train Loss: 0.3617 | Train Acc: 83.89%\n",
            "  Valid Loss: 0.6505 | Valid Acc: 73.81%\n",
            "\n",
            "Epoch: 24/30\n",
            "  Train Loss: 0.3308 | Train Acc: 85.66%\n",
            "  Valid Loss: 0.6564 | Valid Acc: 71.72%\n",
            "\n",
            "Epoch: 25/30\n",
            "  Train Loss: 0.3225 | Train Acc: 86.30%\n",
            "  Valid Loss: 0.7220 | Valid Acc: 73.80%\n",
            "\n",
            "Epoch: 26/30\n",
            "  Train Loss: 0.3056 | Train Acc: 87.12%\n",
            "  Valid Loss: 0.6788 | Valid Acc: 73.45%\n",
            "\n",
            "Epoch: 27/30\n",
            "  Train Loss: 0.2810 | Train Acc: 88.19%\n",
            "  Valid Loss: 0.7273 | Valid Acc: 74.44%\n",
            "\n",
            "Epoch: 28/30\n",
            "  Train Loss: 0.2749 | Train Acc: 88.53%\n",
            "  Valid Loss: 0.7016 | Valid Acc: 73.52%\n",
            "\n",
            "Epoch: 29/30\n",
            "  Train Loss: 0.2574 | Train Acc: 89.24%\n",
            "  Valid Loss: 0.7433 | Valid Acc: 73.81%\n",
            "\n",
            "Epoch: 30/30\n",
            "  Train Loss: 0.2390 | Train Acc: 90.30%\n",
            "  Valid Loss: 0.7544 | Valid Acc: 74.98%\n",
            "\n"
          ]
        }
      ]
    },
    {
      "cell_type": "markdown",
      "source": [
        "**Visualization**\n",
        "\n",
        "Visualize the training and validation loss and accuracy over epochs using matplotlib and seaborn."
      ],
      "metadata": {
        "id": "rge9QQnSieuU"
      }
    },
    {
      "cell_type": "code",
      "source": [
        "# Visualization\n",
        "sns.set_style(\"darkgrid\")\n",
        "plt.figure(figsize=(12, 5))\n",
        "\n",
        "# Plot Loss\n",
        "plt.subplot(1, 2, 1)\n",
        "plt.plot(range(1, N_EPOCHS + 1), train_losses, label='Train Loss')\n",
        "plt.plot(range(1, N_EPOCHS + 1), valid_losses, label='Valid Loss')\n",
        "plt.xlabel(\"Epoch\")\n",
        "plt.ylabel(\"Loss\")\n",
        "plt.title(\"Loss over Epochs\")\n",
        "plt.legend()\n",
        "\n",
        "# Plot Accuracy\n",
        "plt.subplot(1, 2, 2)\n",
        "plt.plot(range(1, N_EPOCHS + 1), train_accuracies, label='Train Acc')\n",
        "plt.plot(range(1, N_EPOCHS + 1), valid_accuracies, label='Valid Acc')\n",
        "plt.xlabel(\"Epoch\")\n",
        "plt.ylabel(\"Accuracy\")\n",
        "plt.title(\"Accuracy over Epochs\")\n",
        "plt.legend()\n",
        "\n",
        "plt.tight_layout()\n",
        "plt.show()\n"
      ],
      "metadata": {
        "id": "OnWdVZnUifSx",
        "colab": {
          "base_uri": "https://localhost:8080/",
          "height": 507
        },
        "outputId": "5c125f5b-8743-4d65-ce36-f32752101491"
      },
      "execution_count": 43,
      "outputs": [
        {
          "output_type": "display_data",
          "data": {
            "text/plain": [
              "<Figure size 1200x500 with 2 Axes>"
            ],
            "image/png": "[encoded data removed]"
          },
          "metadata": {}
        }
      ]
    },
    {
      "cell_type": "markdown",
      "source": [
        "Evaluate on Test Data\n",
        "Load the best model and evaluate its performance on the test dataset."
      ],
      "metadata": {
        "id": "oW5wuDPoigjU"
      }
    },
    {
      "cell_type": "code",
      "source": [
        "# Load the best model\n",
        "model.load_state_dict(torch.load('best-model.pt'))\n",
        "\n",
        "# Evaluate on test data\n",
        "test_loss, test_acc = eval_fn(model, test_loader, criterion, device)\n",
        "print(f\"Test Loss: {test_loss:.4f} | Test Accuracy: {test_acc * 100:.2f}%\")\n"
      ],
      "metadata": {
        "id": "udFbZrgTihCN",
        "colab": {
          "base_uri": "https://localhost:8080/"
        },
        "outputId": "917c457a-e368-4a74-b776-56d428a0cfb0"
      },
      "execution_count": 44,
      "outputs": [
        {
          "output_type": "stream",
          "name": "stderr",
          "text": [
            "<ipython-input-44-66bdd5dec92d>:2: FutureWarning: You are using `torch.load` with `weights_only=False` (the current default value), which uses the default pickle module implicitly. It is possible to construct malicious pickle data which will execute arbitrary code during unpickling (See https://github.com/pytorch/pytorch/blob/main/SECURITY.md#untrusted-models for more details). In a future release, the default value for `weights_only` will be flipped to `True`. This limits the functions that could be executed during unpickling. Arbitrary objects will no longer be allowed to be loaded via this mode unless they are explicitly allowlisted by the user via `torch.serialization.add_safe_globals`. We recommend you start setting `weights_only=True` for any use case where you don't have full control of the loaded file. Please open an issue on GitHub for any issues related to this experimental feature.\n",
            "  model.load_state_dict(torch.load('best-model.pt'))\n"
          ]
        },
        {
          "output_type": "stream",
          "name": "stdout",
          "text": [
            "Test Loss: 0.7471 | Test Accuracy: 60.91%\n"
          ]
        }
      ]
    },
    {
      "cell_type": "markdown",
      "source": [
        "**Confusion Matrix**\n",
        "\n",
        "Generate a confusion matrix to visualize the performance of the model on the test set."
      ],
      "metadata": {
        "id": "NhmGI63xihoO"
      }
    },
    {
      "cell_type": "code",
      "source": [
        "# Function to get predictions and labels\n",
        "def get_predictions(model, loader, device):\n",
        "    model.eval()\n",
        "    all_preds = []\n",
        "    all_labels = []\n",
        "    with torch.no_grad():\n",
        "        for texts, lengths, labels in tqdm(loader, desc='Predicting'):\n",
        "            texts, lengths = texts.to(device), lengths.to(device)\n",
        "            predictions = torch.sigmoid(model(texts, lengths))\n",
        "            preds = torch.round(predictions)\n",
        "            all_preds.extend(preds.cpu().numpy())\n",
        "            all_labels.extend(labels.numpy())\n",
        "    return all_preds, all_labels\n",
        "\n",
        "# Get predictions and labels\n",
        "test_preds, test_labels = get_predictions(model, test_loader, device)\n",
        "\n",
        "# Compute confusion matrix\n",
        "cm = confusion_matrix(test_labels, test_preds)\n",
        "disp = ConfusionMatrixDisplay(cm, display_labels=['Negative', 'Positive'])\n",
        "disp.plot(cmap=plt.cm.Blues)\n",
        "plt.title('Confusion Matrix on Test Set')\n",
        "plt.show()\n"
      ],
      "metadata": {
        "id": "6M3V-onBiiGk",
        "colab": {
          "base_uri": "https://localhost:8080/",
          "height": 489
        },
        "outputId": "aee952c8-ba53-4c50-a668-77571bf897c2"
      },
      "execution_count": 45,
      "outputs": [
        {
          "output_type": "stream",
          "name": "stderr",
          "text": [
            "Predicting: 100%|██████████| 79/79 [00:22<00:00,  3.56it/s]\n"
          ]
        },
        {
          "output_type": "display_data",
          "data": {
            "text/plain": [
              "<Figure size 640x480 with 2 Axes>"
            ],
            "image/png": "[encoded data removed]"
          },
          "metadata": {}
        }
      ]
    },
    {
      "cell_type": "markdown",
      "source": [
        "**Predict on Custom Sentences**\n",
        "\n",
        "Use the trained model to predict the sentiment of custom movie reviews."
      ],
      "metadata": {
        "id": "l0Ur6OlKijDl"
      }
    },
    {
      "cell_type": "code",
      "source": [
        "# Function to predict sentiment of a single sentence\n",
        "def predict_sentiment(model, text, stoi, nlp, device, max_length=256):\n",
        "    model.eval()\n",
        "    tokens = tokenize(text, nlp)\n",
        "    numericalized = [stoi.get(t, stoi['<unk>']) for t in tokens]\n",
        "    if len(numericalized) > max_length:\n",
        "        numericalized = numericalized[:max_length]\n",
        "    lengths = torch.tensor([len(numericalized)], dtype=torch.long).to(device)\n",
        "    tensor = torch.tensor(numericalized, dtype=torch.long).unsqueeze(0).to(device)\n",
        "\n",
        "    with torch.no_grad():\n",
        "        prediction = torch.sigmoid(model(tensor, lengths))\n",
        "    return prediction.item()\n",
        "\n",
        "# Sample reviews\n",
        "sample_reviews = [\n",
        "    \"This movie was absolutely fantastic, I loved it!\",\n",
        "    \"I hated this movie, it was so bad and boring.\",\n",
        "    \"It was okay, not great but not terrible either.\",\n",
        "]\n",
        "\n",
        "# Predict and display results\n",
        "for review in sample_reviews:\n",
        "    score = predict_sentiment(model, review, stoi, nlp, device)\n",
        "    sentiment = \"Positive\" if score >= 0.5 else \"Negative\"\n",
        "    print(f\"Review: {review}\\nPredicted: {sentiment} (Score: {score:.4f})\\n\")\n"
      ],
      "metadata": {
        "id": "H6CUBIi9ijlp",
        "colab": {
          "base_uri": "https://localhost:8080/"
        },
        "outputId": "c5f12868-43c1-40b7-b509-7daad7f7e00a"
      },
      "execution_count": 46,
      "outputs": [
        {
          "output_type": "stream",
          "name": "stdout",
          "text": [
            "Review: This movie was absolutely fantastic, I loved it!\n",
            "Predicted: Positive (Score: 0.9596)\n",
            "\n",
            "Review: I hated this movie, it was so bad and boring.\n",
            "Predicted: Negative (Score: 0.1427)\n",
            "\n",
            "Review: It was okay, not great but not terrible either.\n",
            "Predicted: Positive (Score: 0.7265)\n",
            "\n"
          ]
        }
      ]
    }
  ]
}